{
 "cells": [
  {
   "attachments": {},
   "cell_type": "markdown",
   "metadata": {},
   "source": [
    "# Додаємо фон на зображення розмиття"
   ]
  },
  {
   "attachments": {},
   "cell_type": "markdown",
   "metadata": {},
   "source": [
    "### Підключаємо потрібні бібілотеки"
   ]
  },
  {
   "cell_type": "code",
   "execution_count": 1,
   "metadata": {},
   "outputs": [],
   "source": [
    "from PIL import Image\n",
    "import json\n",
    "import os"
   ]
  },
  {
   "attachments": {},
   "cell_type": "markdown",
   "metadata": {},
   "source": [
    "### Зчитуємо потрібні налаштування з конфігу "
   ]
  },
  {
   "cell_type": "code",
   "execution_count": 2,
   "metadata": {},
   "outputs": [],
   "source": [
    "file = open(\"config.json\")\n",
    "config = json.load(file)\n",
    "file.close()\n",
    "folder_bg = config['images.folder'] + config['images.subfolder.divided']\n",
    "folder_fg = config['images.folder'] + config['images.subfolder.traced']\n",
    "folder_out = config['images.folder'] + config['images.subfolder.result']\n"
   ]
  },
  {
   "attachments": {},
   "cell_type": "markdown",
   "metadata": {},
   "source": [
    "### Оброблюємо кожне зображення додавши до нього фон"
   ]
  },
  {
   "cell_type": "code",
   "execution_count": null,
   "metadata": {},
   "outputs": [],
   "source": [
    "for image in os.listdir(folder_fg):\n",
    "    i = image[5:-4]\n",
    "    print(\"Зображення \"+ str(i) +\" оброблюється\")\n",
    "    #open\n",
    "    background = Image.open(folder_bg + \"frame\"+str(i)+\".jpg\")\n",
    "    foreground = Image.open(folder_fg + \"frame\"+str(i)+\".png\")\n",
    "    #pasting\n",
    "    background.paste(foreground, (0, 0),mask=foreground) \n",
    "    #saving\n",
    "    background.save(folder_out+'frame'+str(i) + '.jpg')\n",
    "    print(\"Зображення збережено.\")\n",
    "print(\"Модуль закінчив роботу.\")\n"
   ]
  }
 ],
 "metadata": {
  "kernelspec": {
   "display_name": "Python 3",
   "language": "python",
   "name": "python3"
  },
  "language_info": {
   "codemirror_mode": {
    "name": "ipython",
    "version": 3
   },
   "file_extension": ".py",
   "mimetype": "text/x-python",
   "name": "python",
   "nbconvert_exporter": "python",
   "pygments_lexer": "ipython3",
   "version": "3.10.4"
  },
  "orig_nbformat": 4,
  "vscode": {
   "interpreter": {
    "hash": "427df2174d5eebfb78961d5616db87dc4a01d81689951787ba91f402ba329ca5"
   }
  }
 },
 "nbformat": 4,
 "nbformat_minor": 2
}
