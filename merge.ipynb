{
 "cells": [
  {
   "attachments": {},
   "cell_type": "markdown",
   "metadata": {},
   "source": [
    "# Зібрання зображень у відео файл"
   ]
  },
  {
   "attachments": {},
   "cell_type": "markdown",
   "metadata": {},
   "source": [
    "### Підключаємо потрібні бібілотеки"
   ]
  },
  {
   "cell_type": "code",
   "execution_count": 1,
   "metadata": {},
   "outputs": [],
   "source": [
    "import cv2\n",
    "import numpy as np\n",
    "import glob\n",
    "import json\n",
    "import os"
   ]
  },
  {
   "attachments": {},
   "cell_type": "markdown",
   "metadata": {},
   "source": [
    "### Зчитуємо потрібні налаштування з конфігу "
   ]
  },
  {
   "cell_type": "code",
   "execution_count": 2,
   "metadata": {},
   "outputs": [],
   "source": [
    "file = open(\"config.json\")\n",
    "config = json.load(file)\n",
    "file.close()\n",
    "folder_in = config['images.folder'] + config['images.subfolder.result']\n",
    "folder_out = config['video.folder']\n",
    "video_format = config['video.output_format']\n",
    "video_name = config['video.file_name']\n",
    "sufix = config['video.result_sufix']"
   ]
  },
  {
   "attachments": {},
   "cell_type": "markdown",
   "metadata": {},
   "source": [
    "### Зчитуємо підтримувані формати відео"
   ]
  },
  {
   "cell_type": "code",
   "execution_count": 3,
   "metadata": {},
   "outputs": [],
   "source": [
    "file = open(\"formats.json\")\n",
    "formats = json.load(file)\n",
    "file.close()"
   ]
  },
  {
   "attachments": {},
   "cell_type": "markdown",
   "metadata": {},
   "source": [
    "### Отримуємо список зображень"
   ]
  },
  {
   "cell_type": "code",
   "execution_count": 4,
   "metadata": {},
   "outputs": [],
   "source": [
    "img_array = os.listdir(folder_in)"
   ]
  },
  {
   "attachments": {},
   "cell_type": "markdown",
   "metadata": {},
   "source": [
    "### Сортуємо зображення по порядку часу (використовуючи індекс кадру)"
   ]
  },
  {
   "cell_type": "code",
   "execution_count": 5,
   "metadata": {},
   "outputs": [],
   "source": [
    "img_array = sorted(img_array, key=lambda image: int(image[5:-4])) "
   ]
  },
  {
   "attachments": {},
   "cell_type": "markdown",
   "metadata": {},
   "source": [
    "### Отримуємо розміри відео"
   ]
  },
  {
   "cell_type": "code",
   "execution_count": 8,
   "metadata": {},
   "outputs": [],
   "source": [
    "img = cv2.imread(folder_in+img_array[0])\n",
    "height, width, layers = img.shape\n",
    "size = (width,height)"
   ]
  },
  {
   "attachments": {},
   "cell_type": "markdown",
   "metadata": {},
   "source": [
    "### Отримуємо частоту кадрів відео"
   ]
  },
  {
   "cell_type": "code",
   "execution_count": 9,
   "metadata": {},
   "outputs": [],
   "source": [
    "video = cv2.VideoCapture(folder_out+video_name)\n",
    "fps = video.get(cv2.CAP_PROP_FPS)\n",
    "video.release()"
   ]
  },
  {
   "attachments": {},
   "cell_type": "markdown",
   "metadata": {},
   "source": [
    "### Створюємо відео з зміненою назвою, потрібною кількістю кадрів та розміром "
   ]
  },
  {
   "cell_type": "code",
   "execution_count": 10,
   "metadata": {},
   "outputs": [],
   "source": [
    "out = cv2.VideoWriter(\n",
    "    folder_out +\n",
    "    video_name[:-4] +\n",
    "    '_' +\n",
    "    sufix +\n",
    "    '.' +\n",
    "    video_format\n",
    "    ,cv2.VideoWriter_fourcc(*formats[video_format]),\n",
    "    fps, \n",
    "    size)"
   ]
  },
  {
   "attachments": {},
   "cell_type": "markdown",
   "metadata": {},
   "source": [
    "### Записуємо кадри в відео"
   ]
  },
  {
   "cell_type": "code",
   "execution_count": 11,
   "metadata": {},
   "outputs": [],
   "source": [
    "for i in range(len(img_array)):\n",
    "    img = cv2.imread(folder_in+img_array[i])\n",
    "    out.write(img)"
   ]
  },
  {
   "attachments": {},
   "cell_type": "markdown",
   "metadata": {},
   "source": [
    "### Зберігаємо відео"
   ]
  },
  {
   "cell_type": "code",
   "execution_count": 12,
   "metadata": {},
   "outputs": [
    {
     "name": "stdout",
     "output_type": "stream",
     "text": [
      "Програма завершила роботу\n"
     ]
    }
   ],
   "source": [
    "out.release()\n",
    "print(\"Програма завершила роботу\")"
   ]
  }
 ],
 "metadata": {
  "kernelspec": {
   "display_name": "Python 3",
   "language": "python",
   "name": "python3"
  },
  "language_info": {
   "codemirror_mode": {
    "name": "ipython",
    "version": 3
   },
   "file_extension": ".py",
   "mimetype": "text/x-python",
   "name": "python",
   "nbconvert_exporter": "python",
   "pygments_lexer": "ipython3",
   "version": "3.10.4"
  },
  "orig_nbformat": 4,
  "vscode": {
   "interpreter": {
    "hash": "427df2174d5eebfb78961d5616db87dc4a01d81689951787ba91f402ba329ca5"
   }
  }
 },
 "nbformat": 4,
 "nbformat_minor": 2
}
