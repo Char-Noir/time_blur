{
  "cells": [
    {
      "attachments": {},
      "cell_type": "markdown",
      "metadata": {
        "id": "peJFKMTNdm4t"
      },
      "source": [
        "# Виділяємо статичний фон відео"
      ]
    },
    {
      "attachments": {},
      "cell_type": "markdown",
      "metadata": {},
      "source": [
        "### Підключаємо потрібні бібілотеки"
      ]
    },
    {
      "cell_type": "code",
      "execution_count": 1,
      "metadata": {
        "id": "xMLo_uP5c9SQ"
      },
      "outputs": [],
      "source": [
        "import numpy as np\n",
        "from PIL import Image\n",
        "import os\n",
        "import json"
      ]
    },
    {
      "attachments": {},
      "cell_type": "markdown",
      "metadata": {},
      "source": [
        "### Зчитуємо потрібні налаштування з конфігу "
      ]
    },
    {
      "cell_type": "code",
      "execution_count": 2,
      "metadata": {},
      "outputs": [],
      "source": [
        "file = open(\"config.json\")\n",
        "config = json.load(file)\n",
        "file.close()\n",
        "folder_in = config['images.folder'] + config['images.subfolder.divided']\n",
        "folder_out = config['images.folder'] + config['images.subfolder.background']\n",
        "size_of_chank = config['program.amount_of_chunks']"
      ]
    },
    {
      "attachments": {},
      "cell_type": "markdown",
      "metadata": {},
      "source": [
        "### Отримуємо список файлів у теці, які потрібно обробити"
      ]
    },
    {
      "cell_type": "code",
      "execution_count": 3,
      "metadata": {
        "id": "h-Wt7XKqImyD"
      },
      "outputs": [],
      "source": [
        "files = os.listdir(folder_in)"
      ]
    },
    {
      "attachments": {},
      "cell_type": "markdown",
      "metadata": {},
      "source": [
        "### Створюємо масив для результатів обробки фрагменту"
      ]
    },
    {
      "cell_type": "code",
      "execution_count": 4,
      "metadata": {
        "id": "aCy98lMsNa62"
      },
      "outputs": [],
      "source": [
        "intermediate_images = []"
      ]
    },
    {
      "attachments": {},
      "cell_type": "markdown",
      "metadata": {},
      "source": [
        "### Ділемо всі зображення на максимально віддалені у часі фрагменти та оброблюємо"
      ]
    },
    {
      "cell_type": "code",
      "execution_count": null,
      "metadata": {
        "colab": {
          "base_uri": "https://localhost:8080/"
        },
        "id": "sZ_fVksxed-7",
        "outputId": "472d4776-6462-4579-d01b-aaf51ef5d475"
      },
      "outputs": [],
      "source": [
        "# Load images\n",
        "for i in range(size_of_chank):\n",
        "  print(\"Почали  \"+ str(i+1) + \" фрагмент.\")\n",
        "  images = []\n",
        "  for image in files[i::size_of_chank]:\n",
        "    print(\"Зображення \"+ image + \" оброблюється\")\n",
        "    images.append(np.array(Image.open(folder_in+image)))\n",
        "  \n",
        "  print(\"Об'єднуємо зображення у чотирьохмірний масив\")\n",
        "  # Stack the images into a 4d sequence\n",
        "  sequence = np.stack(tuple(images), axis=3)\n",
        "\n",
        "  print(\"Знаходимо медіану\")\n",
        "  # Repace each pixel by mean of the sequence\n",
        "  result = np.median(sequence, axis=3).astype(np.uint8)\n",
        "\n",
        "  print(\"Зберігаємо результат фрагменту\")\n",
        "  # Save to array\n",
        "  intermediate_images.append(Image.fromarray(result))"
      ]
    },
    {
      "attachments": {},
      "cell_type": "markdown",
      "metadata": {},
      "source": [
        "### Виконуємо обробку результатів кожного фрагменту, щоб отримати єдиний результат"
      ]
    },
    {
      "cell_type": "code",
      "execution_count": null,
      "metadata": {
        "colab": {
          "base_uri": "https://localhost:8080/"
        },
        "id": "qU8x0wDQQASY",
        "outputId": "90a4f7d1-c34d-44d8-a48f-45ee7deeb851"
      },
      "outputs": [],
      "source": [
        "print(\"Почався фінальний етап обробки\")\n",
        "print(\"Об'єднуємо результати фрагментів у чотирьохмірний масив\")\n",
        "# Stack the images into a 4d sequence\n",
        "sequence = np.stack(tuple(intermediate_images), axis=3)\n",
        "\n",
        "print(\"Знаходимо медіану\")\n",
        "# Repace each pixel by mean of the sequence\n",
        "result = np.median(sequence, axis=3).astype(np.uint8)\n",
        "\n",
        "print(\"Зберігаємо результат\")\n",
        "# Save\n",
        "Image.fromarray(result).save(folder_out+'background_'+str(size_of_chank)+'.png')\n",
        "print('Модуль завершив свою роботу.')"
      ]
    }
  ],
  "metadata": {
    "colab": {
      "provenance": []
    },
    "kernelspec": {
      "display_name": "Python 3",
      "language": "python",
      "name": "python3"
    },
    "language_info": {
      "codemirror_mode": {
        "name": "ipython",
        "version": 3
      },
      "file_extension": ".py",
      "mimetype": "text/x-python",
      "name": "python",
      "nbconvert_exporter": "python",
      "pygments_lexer": "ipython3",
      "version": "3.10.4"
    },
    "vscode": {
      "interpreter": {
        "hash": "427df2174d5eebfb78961d5616db87dc4a01d81689951787ba91f402ba329ca5"
      }
    }
  },
  "nbformat": 4,
  "nbformat_minor": 0
}
