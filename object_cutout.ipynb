{
  "cells": [
    {
      "attachments": {},
      "cell_type": "markdown",
      "metadata": {
        "id": "peJFKMTNdm4t"
      },
      "source": [
        "# Видаляємо статичний фон відео"
      ]
    },
    {
      "attachments": {},
      "cell_type": "markdown",
      "metadata": {},
      "source": [
        "### Підключаємо потрібні бібліотеки"
      ]
    },
    {
      "cell_type": "code",
      "execution_count": 1,
      "metadata": {
        "id": "xMLo_uP5c9SQ"
      },
      "outputs": [],
      "source": [
        "import numpy as np\n",
        "from PIL import Image\n",
        "import os\n",
        "import json"
      ]
    },
    {
      "attachments": {},
      "cell_type": "markdown",
      "metadata": {},
      "source": [
        "### Зчитуємо потрібні налаштування з конфігу "
      ]
    },
    {
      "cell_type": "code",
      "execution_count": 2,
      "metadata": {
        "id": "Tic1KKn4dYVa"
      },
      "outputs": [],
      "source": [
        "file = open(\"config.json\")\n",
        "config = json.load(file)\n",
        "folder_in = config['images.folder'] + config['images.subfolder.divided']\n",
        "folder_out = config['images.folder'] + config['images.subfolder.cutted']\n",
        "shading = config['program.shading_pixels']"
      ]
    },
    {
      "attachments": {},
      "cell_type": "markdown",
      "metadata": {},
      "source": [
        "### Відкриваємо фоново зображення, отримане в результаті попереднього етапу"
      ]
    },
    {
      "cell_type": "code",
      "execution_count": 3,
      "metadata": {
        "id": "h-Wt7XKqImyD"
      },
      "outputs": [],
      "source": [
        "background_image = np.array(\n",
        "    Image.open(\n",
        "        config['images.folder'] + \n",
        "        config['images.subfolder.background'] +\n",
        "        'background_' +\n",
        "        str(config['program.amount_of_chunks']) +\n",
        "        '.png'\n",
        "    )\n",
        "    )"
      ]
    },
    {
      "attachments": {},
      "cell_type": "markdown",
      "metadata": {},
      "source": [
        "### Функція для перевірки подібності пікселів з відступом на <code> program.shading_pixels </code> значень пікселя "
      ]
    },
    {
      "cell_type": "code",
      "execution_count": 6,
      "metadata": {
        "id": "aCy98lMsNa62"
      },
      "outputs": [],
      "source": [
        "def compare_np_array_with_shading(a,b):\n",
        "    for i in range(len(b)):\n",
        "        if(a[i] <= b[i]):\n",
        "            if(b[i] -  a[i]) > shading:\n",
        "                return False\n",
        "        else:\n",
        "            if(a[i] -  b[i]) > shading:\n",
        "                return False    \n",
        "    return True            "
      ]
    },
    {
      "attachments": {},
      "cell_type": "markdown",
      "metadata": {},
      "source": [
        "### Вирізання фону з кожного кадра послідовності"
      ]
    },
    {
      "cell_type": "code",
      "execution_count": null,
      "metadata": {
        "colab": {
          "base_uri": "https://localhost:8080/"
        },
        "id": "sZ_fVksxed-7",
        "outputId": "2af46289-c9f2-483e-d679-c71241761caf"
      },
      "outputs": [],
      "source": [
        "for image in os.listdir(folder_in):\n",
        " img_or = Image.open(folder_in+image)\n",
        " img_or.putalpha(256)\n",
        " img =  np.array(img_or)\n",
        " print(\"Зображення \" + str(image) + \" почало обробку!\")\n",
        " for i in range(len(img)):\n",
        "    for j in range(len(img[i])):\n",
        "        if compare_np_array_with_shading(img[i][j], background_image[i][j]):\n",
        "            img[i][j][3] = 0\n",
        " print(\"Зображення \" + str(image) + \" збережено до файлу!\")                       \n",
        " Image.fromarray(img).save(folder_out + image[:-4]+'.png')\n",
        "print(\"Модуль закінчив роботу!\")                 "
      ]
    }
  ],
  "metadata": {
    "colab": {
      "provenance": []
    },
    "kernelspec": {
      "display_name": "Python 3",
      "language": "python",
      "name": "python3"
    },
    "language_info": {
      "codemirror_mode": {
        "name": "ipython",
        "version": 3
      },
      "file_extension": ".py",
      "mimetype": "text/x-python",
      "name": "python",
      "nbconvert_exporter": "python",
      "pygments_lexer": "ipython3",
      "version": "3.10.4"
    },
    "vscode": {
      "interpreter": {
        "hash": "427df2174d5eebfb78961d5616db87dc4a01d81689951787ba91f402ba329ca5"
      }
    }
  },
  "nbformat": 4,
  "nbformat_minor": 0
}
