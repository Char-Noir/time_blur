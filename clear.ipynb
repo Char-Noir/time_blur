{
 "cells": [
  {
   "attachments": {},
   "cell_type": "markdown",
   "metadata": {},
   "source": [
    "# Очищення папок зображень"
   ]
  },
  {
   "attachments": {},
   "cell_type": "markdown",
   "metadata": {},
   "source": [
    "### Підключаємо потрібні бібілотеки"
   ]
  },
  {
   "cell_type": "code",
   "execution_count": 1,
   "metadata": {},
   "outputs": [],
   "source": [
    "import os\n",
    "import json"
   ]
  },
  {
   "attachments": {},
   "cell_type": "markdown",
   "metadata": {},
   "source": [
    "### Зчитуємо конфіг"
   ]
  },
  {
   "cell_type": "code",
   "execution_count": 2,
   "metadata": {},
   "outputs": [],
   "source": [
    "file = open(\"config.json\")\n",
    "config = json.load(file)\n",
    "file.close()"
   ]
  },
  {
   "attachments": {},
   "cell_type": "markdown",
   "metadata": {},
   "source": [
    "### Збираємо масив папок, які потрібно очистити"
   ]
  },
  {
   "cell_type": "code",
   "execution_count": 3,
   "metadata": {},
   "outputs": [],
   "source": [
    "folders = [\n",
    "config['images.folder'] + config['images.subfolder.divided'],\n",
    "config['images.folder'] + config['images.subfolder.cutted'],\n",
    "config['images.folder'] + config['images.subfolder.traced'],\n",
    "config['images.folder'] + config['images.subfolder.background'],\n",
    "config['images.folder'] + config['images.subfolder.result']\n",
    "]"
   ]
  },
  {
   "attachments": {},
   "cell_type": "markdown",
   "metadata": {},
   "source": [
    "### Очищуємо усі папки"
   ]
  },
  {
   "cell_type": "code",
   "execution_count": null,
   "metadata": {},
   "outputs": [],
   "source": [
    "for i in range(len(folders)):\n",
    "    print(\"Очищую папку \" + folders[i])\n",
    "    files = os.listdir(folders[i])\n",
    "    for f in files:\n",
    "        os.remove(folders[i]+f)\n",
    "print(\"Модуль завершив роботу\")        "
   ]
  }
 ],
 "metadata": {
  "kernelspec": {
   "display_name": "Python 3",
   "language": "python",
   "name": "python3"
  },
  "language_info": {
   "codemirror_mode": {
    "name": "ipython",
    "version": 3
   },
   "file_extension": ".py",
   "mimetype": "text/x-python",
   "name": "python",
   "nbconvert_exporter": "python",
   "pygments_lexer": "ipython3",
   "version": "3.10.4"
  },
  "orig_nbformat": 4,
  "vscode": {
   "interpreter": {
    "hash": "427df2174d5eebfb78961d5616db87dc4a01d81689951787ba91f402ba329ca5"
   }
  }
 },
 "nbformat": 4,
 "nbformat_minor": 2
}
