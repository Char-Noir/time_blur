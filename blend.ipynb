{
 "cells": [
  {
   "attachments": {},
   "cell_type": "markdown",
   "metadata": {},
   "source": [
    "# Створення зображень розмиття (слідів у часі)"
   ]
  },
  {
   "attachments": {},
   "cell_type": "markdown",
   "metadata": {},
   "source": [
    "### Підключаємо потрібні бібілотеки"
   ]
  },
  {
   "cell_type": "code",
   "execution_count": 5,
   "metadata": {},
   "outputs": [],
   "source": [
    "from PIL import Image\n",
    "import numpy\n",
    "import blend_modes\n",
    "import json\n",
    "import os"
   ]
  },
  {
   "attachments": {},
   "cell_type": "markdown",
   "metadata": {},
   "source": [
    "### Зчитуємо потрібні налаштування з конфігу "
   ]
  },
  {
   "cell_type": "code",
   "execution_count": 6,
   "metadata": {},
   "outputs": [],
   "source": [
    "file = open(\"config.json\")\n",
    "config = json.load(file)\n",
    "file.close()\n",
    "folder_bg = config['images.folder'] + config['images.subfolder.divided']\n",
    "folder_fg = config['images.folder'] + config['images.subfolder.cutted']\n",
    "folder_out = config['images.folder'] + config['images.subfolder.traced']\n",
    "step = config['program.time_washout_step']"
   ]
  },
  {
   "attachments": {},
   "cell_type": "markdown",
   "metadata": {},
   "source": [
    "### Оброблюємо кожне зображення починаючи з зображення номер <code> program.time_washout_step </code>"
   ]
  },
  {
   "cell_type": "code",
   "execution_count": null,
   "metadata": {},
   "outputs": [],
   "source": [
    "for i in range(step,len(os.listdir(folder_bg))):\n",
    "    print(\"Зображення \"+ str(i) + \" почало обробку!\")\n",
    "    #load main frame\n",
    "    background_img_raw = Image.open(folder_bg+'frame'+str(i)+'.jpg')  # RGB image\n",
    "    background_img = numpy.array(background_img_raw)  # Inputs to blend_modes need to be numpy arrays.\n",
    "    background_img_float = background_img.astype(float)  # Inputs to blend_modes need to be floats.\n",
    "    \n",
    "    #add blended image\n",
    "    blended = background_img_float\n",
    "\n",
    "    #load and calculate traces frames\n",
    "    for j in range(step):\n",
    "        img_raw = Image.open(folder_fg+'frame'+str(i-step+j)+'.png')  # RGBA image\n",
    "        img = numpy.array(img_raw)  # Inputs to blend_modes need to be numpy arrays.\n",
    "        img_float = img.astype(float)  # Inputs to blend_modes need to be floats.\n",
    "        \n",
    "        #calculate opacity where 0 and 100 is frames before and after frames sequence\n",
    "        opacity = 100 / (step + 1) * (j + 1) / 100\n",
    "\n",
    "        #blend current picture to stack\n",
    "        blended = blend_modes.normal(blended, img_float, opacity)\n",
    "    \n",
    "    #save result image\n",
    "    blended_img = numpy.uint8(blended)  # Image needs to be converted back to uint8 type for PIL handling.\n",
    "    blended_img_raw = Image.fromarray(blended_img)  # Note that alpha channels are displayed in black by PIL by default.\n",
    "                                                # This behavior is difficult to change (although possible).\n",
    "                                                # If you have alpha channels in your images, then you should give\n",
    "                                                # OpenCV a try.\n",
    "    blended_img_raw.save(folder_out+'frame'+str(i)+'.png')\n",
    "print(\"Модуль завершив роботу\")        \n",
    "\n",
    "\n",
    "        \n"
   ]
  }
 ],
 "metadata": {
  "kernelspec": {
   "display_name": "Python 3",
   "language": "python",
   "name": "python3"
  },
  "language_info": {
   "codemirror_mode": {
    "name": "ipython",
    "version": 3
   },
   "file_extension": ".py",
   "mimetype": "text/x-python",
   "name": "python",
   "nbconvert_exporter": "python",
   "pygments_lexer": "ipython3",
   "version": "3.10.4"
  },
  "orig_nbformat": 4,
  "vscode": {
   "interpreter": {
    "hash": "427df2174d5eebfb78961d5616db87dc4a01d81689951787ba91f402ba329ca5"
   }
  }
 },
 "nbformat": 4,
 "nbformat_minor": 2
}
