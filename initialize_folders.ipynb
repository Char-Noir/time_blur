{
 "cells": [
  {
   "attachments": {},
   "cell_type": "markdown",
   "metadata": {},
   "source": [
    "# Створення папок "
   ]
  },
  {
   "attachments": {},
   "cell_type": "markdown",
   "metadata": {},
   "source": [
    "### Підключаємо потрібні бібліотеки"
   ]
  },
  {
   "cell_type": "code",
   "execution_count": null,
   "metadata": {},
   "outputs": [],
   "source": [
    "import os\n",
    "import json"
   ]
  },
  {
   "attachments": {},
   "cell_type": "markdown",
   "metadata": {},
   "source": [
    "### Зчитуємо потрібні налаштування з конфігу "
   ]
  },
  {
   "cell_type": "code",
   "execution_count": null,
   "metadata": {},
   "outputs": [],
   "source": [
    "file = open(\"config.json\")\n",
    "config = json.load(file)\n",
    "file.close()"
   ]
  },
  {
   "cell_type": "code",
   "execution_count": null,
   "metadata": {},
   "outputs": [],
   "source": [
    "images_folder = config['images.folder']\n",
    "video_folder = config['video.folder']"
   ]
  },
  {
   "cell_type": "code",
   "execution_count": null,
   "metadata": {},
   "outputs": [],
   "source": [
    "images_folders = [\n",
    "config['images.folder'] + config['images.subfolder.divided'],\n",
    "config['images.folder'] + config['images.subfolder.cutted'],\n",
    "config['images.folder'] + config['images.subfolder.traced'],\n",
    "config['images.folder'] + config['images.subfolder.background'],\n",
    "config['images.folder'] + config['images.subfolder.result']\n",
    "]"
   ]
  },
  {
   "attachments": {},
   "cell_type": "markdown",
   "metadata": {},
   "source": [
    "### Створюємо папки для зображень та відео"
   ]
  },
  {
   "cell_type": "code",
   "execution_count": null,
   "metadata": {},
   "outputs": [],
   "source": [
    "print(\"Створюю папку \" + images_folder)   \n",
    "os.mkdir(images_folder)\n",
    "print(\"Створюю папку \" + video_folder)   \n",
    "os.mkdir(video_folder)"
   ]
  },
  {
   "attachments": {},
   "cell_type": "markdown",
   "metadata": {},
   "source": [
    "### Створюємо підпапки для зображень"
   ]
  },
  {
   "cell_type": "code",
   "execution_count": null,
   "metadata": {},
   "outputs": [],
   "source": [
    "for i in range(len(images_folders)):\n",
    "    print(\"Створюю папку \" + images_folders[i])\n",
    "    os.mkdir(images_folders[i])\n",
    "print(\"Модуль завершив роботу\")   "
   ]
  }
 ],
 "metadata": {
  "kernelspec": {
   "display_name": "Python 3",
   "language": "python",
   "name": "python3"
  },
  "language_info": {
   "name": "python",
   "version": "3.10.4"
  },
  "orig_nbformat": 4,
  "vscode": {
   "interpreter": {
    "hash": "427df2174d5eebfb78961d5616db87dc4a01d81689951787ba91f402ba329ca5"
   }
  }
 },
 "nbformat": 4,
 "nbformat_minor": 2
}
